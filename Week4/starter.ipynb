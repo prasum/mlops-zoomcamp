{
 "cells": [
  {
   "cell_type": "code",
   "execution_count": 30,
   "id": "2c51efaa",
   "metadata": {},
   "outputs": [
    {
     "name": "stdout",
     "output_type": "stream",
     "text": [
      "Collecting scikit-learn==1.5.0\n",
      "  Downloading scikit_learn-1.5.0-cp310-cp310-win_amd64.whl (11.0 MB)\n",
      "     ---------------------------------------- 11.0/11.0 MB 2.6 MB/s eta 0:00:00\n",
      "Collecting threadpoolctl>=3.1.0\n",
      "  Downloading threadpoolctl-3.5.0-py3-none-any.whl (18 kB)\n",
      "Requirement already satisfied: numpy>=1.19.5 in c:\\users\\sumeet\\anaconda3\\lib\\site-packages (from scikit-learn==1.5.0) (1.23.5)\n",
      "Requirement already satisfied: scipy>=1.6.0 in c:\\users\\sumeet\\anaconda3\\lib\\site-packages (from scikit-learn==1.5.0) (1.10.0)\n",
      "Collecting joblib>=1.2.0\n",
      "  Downloading joblib-1.4.2-py3-none-any.whl (301 kB)\n",
      "     -------------------------------------- 301.8/301.8 kB 2.7 MB/s eta 0:00:00\n",
      "Installing collected packages: threadpoolctl, joblib, scikit-learn\n",
      "  Attempting uninstall: threadpoolctl\n",
      "    Found existing installation: threadpoolctl 2.2.0\n",
      "    Uninstalling threadpoolctl-2.2.0:\n",
      "      Successfully uninstalled threadpoolctl-2.2.0\n",
      "  Attempting uninstall: joblib\n",
      "    Found existing installation: joblib 1.1.1\n",
      "    Uninstalling joblib-1.1.1:\n",
      "      Successfully uninstalled joblib-1.1.1\n",
      "  Attempting uninstall: scikit-learn\n",
      "    Found existing installation: scikit-learn 1.2.1\n",
      "    Uninstalling scikit-learn-1.2.1:\n",
      "      Successfully uninstalled scikit-learn-1.2.1\n",
      "Successfully installed joblib-1.4.2 scikit-learn-1.5.0 threadpoolctl-3.5.0\n"
     ]
    }
   ],
   "source": [
    "#!pip install scikit-learn==1.5.0"
   ]
  },
  {
   "cell_type": "code",
   "execution_count": 16,
   "id": "e0900cd5-5ce9-4f88-881b-fe705dc7d873",
   "metadata": {},
   "outputs": [
    {
     "data": {
      "text/plain": [
       "'1.23.5'"
      ]
     },
     "execution_count": 16,
     "metadata": {},
     "output_type": "execute_result"
    }
   ],
   "source": [
    "import numpy as np\n",
    "np.__version__"
   ]
  },
  {
   "cell_type": "code",
   "execution_count": 1,
   "id": "4acf73a0-51b5-4663-9bb8-8eb947863e17",
   "metadata": {},
   "outputs": [
    {
     "name": "stdout",
     "output_type": "stream",
     "text": [
      "Python 3.10.9\n"
     ]
    }
   ],
   "source": [
    "#!python -V"
   ]
  },
  {
   "cell_type": "code",
   "execution_count": 2,
   "id": "0ef880a0",
   "metadata": {},
   "outputs": [],
   "source": [
    "import pickle\n",
    "import pandas as pd"
   ]
  },
  {
   "cell_type": "code",
   "execution_count": 3,
   "id": "7836ccfd",
   "metadata": {},
   "outputs": [],
   "source": [
    "with open('model.bin', 'rb') as f_in:\n",
    "    dv, model = pickle.load(f_in)"
   ]
  },
  {
   "cell_type": "code",
   "execution_count": 4,
   "id": "41c08294",
   "metadata": {},
   "outputs": [],
   "source": [
    "categorical = ['PULocationID', 'DOLocationID']\n",
    "\n",
    "def read_data(filename):\n",
    "    df = pd.read_parquet(filename)\n",
    "    \n",
    "    df['duration'] = df.tpep_dropoff_datetime - df.tpep_pickup_datetime\n",
    "    df['duration'] = df.duration.dt.total_seconds() / 60\n",
    "\n",
    "    df = df[(df.duration >= 1) & (df.duration <= 60)].copy()\n",
    "\n",
    "    df[categorical] = df[categorical].fillna(-1).astype('int').astype('str')\n",
    "    \n",
    "    return df"
   ]
  },
  {
   "cell_type": "code",
   "execution_count": 5,
   "id": "4854399a",
   "metadata": {},
   "outputs": [],
   "source": [
    "df = read_data('https://d37ci6vzurychx.cloudfront.net/trip-data/yellow_tripdata_2023-03.parquet')"
   ]
  },
  {
   "cell_type": "code",
   "execution_count": 6,
   "id": "e7a44f68-4c30-411b-bf5a-88e6be63ed0b",
   "metadata": {},
   "outputs": [],
   "source": [
    "year = 2023\n",
    "month = 3"
   ]
  },
  {
   "cell_type": "code",
   "execution_count": 7,
   "id": "669fda0a",
   "metadata": {},
   "outputs": [],
   "source": [
    "dicts = df[categorical].to_dict(orient='records')\n",
    "X_val = dv.transform(dicts)\n",
    "y_pred = model.predict(X_val)"
   ]
  },
  {
   "cell_type": "code",
   "execution_count": 8,
   "id": "13ba42d7-3974-4cfc-b821-de5a6e4124e0",
   "metadata": {},
   "outputs": [],
   "source": [
    "df_result = pd.DataFrame()"
   ]
  },
  {
   "cell_type": "code",
   "execution_count": 9,
   "id": "3c4b7c90-b982-4eec-a6d5-ab16032dc017",
   "metadata": {},
   "outputs": [],
   "source": [
    "df_result['ride_id'] = f'{year:04d}/{month:02d}_' + df.index.astype('str')"
   ]
  },
  {
   "cell_type": "code",
   "execution_count": 10,
   "id": "bf532ae7-1897-428c-ba0c-875ccaf7d76c",
   "metadata": {},
   "outputs": [
    {
     "data": {
      "text/plain": [
       "6.247488852238703"
      ]
     },
     "execution_count": 10,
     "metadata": {},
     "output_type": "execute_result"
    }
   ],
   "source": [
    "import numpy as np\n",
    "np.std(y_pred)"
   ]
  },
  {
   "cell_type": "code",
   "execution_count": 11,
   "id": "d852fb1b-79fe-40c5-b2fe-51fff8fccbb0",
   "metadata": {},
   "outputs": [],
   "source": [
    "df_result['pred']=y_pred"
   ]
  },
  {
   "cell_type": "code",
   "execution_count": 12,
   "id": "311028cd-03b9-4d59-b3ce-dd86d198a8ad",
   "metadata": {},
   "outputs": [],
   "source": [
    "df_result.to_parquet(\n",
    "    'test_duration.parquet',\n",
    "    engine='pyarrow',\n",
    "    compression=None,\n",
    "    index=False\n",
    ")"
   ]
  },
  {
   "cell_type": "code",
   "execution_count": 13,
   "id": "02c0d93f-9935-4429-b6f5-971b68cbebb1",
   "metadata": {},
   "outputs": [
    {
     "data": {
      "text/html": [
       "<div>\n",
       "<style scoped>\n",
       "    .dataframe tbody tr th:only-of-type {\n",
       "        vertical-align: middle;\n",
       "    }\n",
       "\n",
       "    .dataframe tbody tr th {\n",
       "        vertical-align: top;\n",
       "    }\n",
       "\n",
       "    .dataframe thead th {\n",
       "        text-align: right;\n",
       "    }\n",
       "</style>\n",
       "<table border=\"1\" class=\"dataframe\">\n",
       "  <thead>\n",
       "    <tr style=\"text-align: right;\">\n",
       "      <th></th>\n",
       "      <th>ride_id</th>\n",
       "      <th>pred</th>\n",
       "    </tr>\n",
       "  </thead>\n",
       "  <tbody>\n",
       "    <tr>\n",
       "      <th>0</th>\n",
       "      <td>2023/03_0</td>\n",
       "      <td>16.245906</td>\n",
       "    </tr>\n",
       "    <tr>\n",
       "      <th>1</th>\n",
       "      <td>2023/03_1</td>\n",
       "      <td>26.134796</td>\n",
       "    </tr>\n",
       "    <tr>\n",
       "      <th>2</th>\n",
       "      <td>2023/03_2</td>\n",
       "      <td>11.884264</td>\n",
       "    </tr>\n",
       "    <tr>\n",
       "      <th>3</th>\n",
       "      <td>2023/03_3</td>\n",
       "      <td>11.997720</td>\n",
       "    </tr>\n",
       "    <tr>\n",
       "      <th>4</th>\n",
       "      <td>2023/03_4</td>\n",
       "      <td>10.234486</td>\n",
       "    </tr>\n",
       "    <tr>\n",
       "      <th>...</th>\n",
       "      <td>...</td>\n",
       "      <td>...</td>\n",
       "    </tr>\n",
       "    <tr>\n",
       "      <th>3316211</th>\n",
       "      <td>2023/03_3403761</td>\n",
       "      <td>11.952635</td>\n",
       "    </tr>\n",
       "    <tr>\n",
       "      <th>3316212</th>\n",
       "      <td>2023/03_3403762</td>\n",
       "      <td>20.049958</td>\n",
       "    </tr>\n",
       "    <tr>\n",
       "      <th>3316213</th>\n",
       "      <td>2023/03_3403763</td>\n",
       "      <td>11.595336</td>\n",
       "    </tr>\n",
       "    <tr>\n",
       "      <th>3316214</th>\n",
       "      <td>2023/03_3403764</td>\n",
       "      <td>13.113178</td>\n",
       "    </tr>\n",
       "    <tr>\n",
       "      <th>3316215</th>\n",
       "      <td>2023/03_3403765</td>\n",
       "      <td>12.899992</td>\n",
       "    </tr>\n",
       "  </tbody>\n",
       "</table>\n",
       "<p>3316216 rows × 2 columns</p>\n",
       "</div>"
      ],
      "text/plain": [
       "                 ride_id       pred\n",
       "0              2023/03_0  16.245906\n",
       "1              2023/03_1  26.134796\n",
       "2              2023/03_2  11.884264\n",
       "3              2023/03_3  11.997720\n",
       "4              2023/03_4  10.234486\n",
       "...                  ...        ...\n",
       "3316211  2023/03_3403761  11.952635\n",
       "3316212  2023/03_3403762  20.049958\n",
       "3316213  2023/03_3403763  11.595336\n",
       "3316214  2023/03_3403764  13.113178\n",
       "3316215  2023/03_3403765  12.899992\n",
       "\n",
       "[3316216 rows x 2 columns]"
      ]
     },
     "execution_count": 13,
     "metadata": {},
     "output_type": "execute_result"
    }
   ],
   "source": [
    "df_result"
   ]
  },
  {
   "cell_type": "code",
   "execution_count": 14,
   "id": "75eb5cd3-af49-45a5-9ae5-6bbb5fcb5600",
   "metadata": {},
   "outputs": [
    {
     "name": "stderr",
     "output_type": "stream",
     "text": [
      "[NbConvertApp] Converting notebook starter.ipynb to script\n",
      "[NbConvertApp] Writing 1349 bytes to starter.py\n"
     ]
    }
   ],
   "source": [
    "#!jupyter nbconvert --to script starter.ipynb"
   ]
  },
  {
   "cell_type": "code",
   "execution_count": null,
   "id": "596d861e-d531-4762-9804-0986b16fd536",
   "metadata": {},
   "outputs": [],
   "source": [
    "# scikit-learn hash\n",
    "# 057b991ac64b3e75c9c04b5f9395eaf19a6179244c089afdebaad98264bff37c"
   ]
  },
  {
   "cell_type": "code",
   "execution_count": 17,
   "id": "0063e13b-1ebf-4204-afc6-54714f330ede",
   "metadata": {},
   "outputs": [],
   "source": [
    "# Mean Duration Apr 2023\n",
    "# 14.29"
   ]
  },
  {
   "cell_type": "code",
   "execution_count": 19,
   "id": "f0420239-61d7-4542-8971-9ae48a2406e0",
   "metadata": {},
   "outputs": [
    {
     "data": {
      "text/plain": [
       "'2024.2.0'"
      ]
     },
     "execution_count": 19,
     "metadata": {},
     "output_type": "execute_result"
    }
   ],
   "source": [
    "# import fastparquet\n",
    "# fastparquet.__version__"
   ]
  },
  {
   "cell_type": "code",
   "execution_count": null,
   "id": "44640d24-83cf-46e6-8e93-95799961ce59",
   "metadata": {},
   "outputs": [],
   "source": [
    "# Mean Duration May 2023\n",
    "# 0.19"
   ]
  }
 ],
 "metadata": {
  "kernelspec": {
   "display_name": "Python 3 (ipykernel)",
   "language": "python",
   "name": "python3"
  },
  "language_info": {
   "codemirror_mode": {
    "name": "ipython",
    "version": 3
   },
   "file_extension": ".py",
   "mimetype": "text/x-python",
   "name": "python",
   "nbconvert_exporter": "python",
   "pygments_lexer": "ipython3",
   "version": "3.10.9"
  }
 },
 "nbformat": 4,
 "nbformat_minor": 5
}
