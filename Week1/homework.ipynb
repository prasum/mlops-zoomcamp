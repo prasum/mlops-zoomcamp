{
 "cells": [
  {
   "cell_type": "code",
   "execution_count": 1,
   "id": "d160d235-6af6-4f97-9d93-922781c49bbe",
   "metadata": {},
   "outputs": [],
   "source": [
    "import pandas as pd\n",
    "from sklearn.feature_extraction import DictVectorizer\n",
    "from sklearn.linear_model import LinearRegression\n",
    "from sklearn.metrics import mean_squared_error"
   ]
  },
  {
   "cell_type": "code",
   "execution_count": 2,
   "id": "a2a18f89-0c53-496a-bfb0-2e2ac829650c",
   "metadata": {},
   "outputs": [
    {
     "name": "stdout",
     "output_type": "stream",
     "text": [
      "Requirement already satisfied: pyarrow in c:\\users\\sumeet\\anaconda3\\lib\\site-packages (16.1.0)\n",
      "Requirement already satisfied: numpy>=1.16.6 in c:\\users\\sumeet\\anaconda3\\lib\\site-packages (from pyarrow) (1.23.5)\n",
      "Requirement already satisfied: fastparquet in c:\\users\\sumeet\\anaconda3\\lib\\site-packages (2024.2.0)\n",
      "Requirement already satisfied: numpy>=1.20.3 in c:\\users\\sumeet\\anaconda3\\lib\\site-packages (from fastparquet) (1.23.5)\n",
      "Requirement already satisfied: pandas>=1.5.0 in c:\\users\\sumeet\\anaconda3\\lib\\site-packages (from fastparquet) (1.5.3)\n",
      "Requirement already satisfied: cramjam>=2.3 in c:\\users\\sumeet\\anaconda3\\lib\\site-packages (from fastparquet) (2.8.3)\n",
      "Requirement already satisfied: packaging in c:\\users\\sumeet\\anaconda3\\lib\\site-packages (from fastparquet) (22.0)\n",
      "Requirement already satisfied: fsspec in c:\\users\\sumeet\\anaconda3\\lib\\site-packages (from fastparquet) (2022.11.0)\n",
      "Requirement already satisfied: pytz>=2020.1 in c:\\users\\sumeet\\anaconda3\\lib\\site-packages (from pandas>=1.5.0->fastparquet) (2022.7)\n",
      "Requirement already satisfied: python-dateutil>=2.8.1 in c:\\users\\sumeet\\anaconda3\\lib\\site-packages (from pandas>=1.5.0->fastparquet) (2.8.2)\n",
      "Requirement already satisfied: six>=1.5 in c:\\users\\sumeet\\anaconda3\\lib\\site-packages (from python-dateutil>=2.8.1->pandas>=1.5.0->fastparquet) (1.16.0)\n"
     ]
    }
   ],
   "source": [
    "!pip install pyarrow\n",
    "!pip install fastparquet"
   ]
  },
  {
   "cell_type": "code",
   "execution_count": 3,
   "id": "480e13a3-6b23-4fc5-a2b5-f4692402a069",
   "metadata": {},
   "outputs": [],
   "source": [
    "df = pd.read_parquet('./data/yellow_tripdata_2023-01.parquet')"
   ]
  },
  {
   "cell_type": "markdown",
   "id": "225f9264-adc6-4549-b53d-4c610c3cc4e0",
   "metadata": {},
   "source": [
    "### Q1. Read the data for January. How many columns are there?"
   ]
  },
  {
   "cell_type": "code",
   "execution_count": 4,
   "id": "24cf1769-4bab-447f-b7e4-670f22a21280",
   "metadata": {},
   "outputs": [
    {
     "data": {
      "text/plain": [
       "19"
      ]
     },
     "execution_count": 4,
     "metadata": {},
     "output_type": "execute_result"
    }
   ],
   "source": [
    "len(df.columns)"
   ]
  },
  {
   "cell_type": "markdown",
   "id": "7a2ce5ab-4a0d-453b-b3cb-c41108862c1a",
   "metadata": {},
   "source": [
    "### Q2. Computing duration\r\n",
    "Now let's compute the duration variable. It should contain the duration of a ride in minutes \n",
    "\r\n",
    "What's the standard deviation of the trips duration in January?"
   ]
  },
  {
   "cell_type": "code",
   "execution_count": 5,
   "id": "c68c0236-6c23-4c87-9747-c25d5ec2cb16",
   "metadata": {},
   "outputs": [
    {
     "data": {
      "text/plain": [
       "42.59"
      ]
     },
     "execution_count": 5,
     "metadata": {},
     "output_type": "execute_result"
    }
   ],
   "source": [
    "df['duration'] = df.tpep_dropoff_datetime - df.tpep_pickup_datetime\n",
    "df.duration = df.duration.apply(lambda td: td.total_seconds() / 60)\n",
    "round(df.duration.std(),2)"
   ]
  },
  {
   "cell_type": "markdown",
   "id": "ae26bdfc-f5b4-4c2f-817a-0b7a5353317f",
   "metadata": {},
   "source": [
    "### Q3. Dropping outliers\r\n",
    "Next, we need to check the distribution of the duration variable. There are some outliers. Let's remove them and keep only the records where the duration was between 1 and 60 minutes (inclusive)<br/>\n",
    "What fraction of the records left after you dropped the outliers?."
   ]
  },
  {
   "cell_type": "code",
   "execution_count": 6,
   "id": "82b18fcc-ae1f-4f4e-96ae-574cc8fd7c11",
   "metadata": {},
   "outputs": [
    {
     "data": {
      "text/plain": [
       "98.12"
      ]
     },
     "execution_count": 6,
     "metadata": {},
     "output_type": "execute_result"
    }
   ],
   "source": [
    "tot_records = len(df.duration.values.tolist())\n",
    "df = df[(df.duration >= 1) & (df.duration <= 60)]\n",
    "round((df.shape[0]/tot_records)*100,2)"
   ]
  },
  {
   "cell_type": "markdown",
   "id": "fd2acb67-4799-44ab-ac65-80c11956d7c3",
   "metadata": {},
   "source": [
    "### Q4. One-hot encoding\n",
    "What's the dimensionality of this matrix (number of columns)?"
   ]
  },
  {
   "cell_type": "code",
   "execution_count": 9,
   "id": "92c70303-3e8c-457e-a376-3f86a395b1c7",
   "metadata": {},
   "outputs": [
    {
     "data": {
      "text/plain": [
       "(3009173, 515)"
      ]
     },
     "execution_count": 9,
     "metadata": {},
     "output_type": "execute_result"
    }
   ],
   "source": [
    "categorical = ['PULocationID', 'DOLocationID']\n",
    "df[categorical] = df[categorical].astype(str)\n",
    "train_dicts = df[categorical].to_dict(orient='records')\n",
    "dv = DictVectorizer()\n",
    "X_train = dv.fit_transform(train_dicts)\n",
    "X_train.shape"
   ]
  },
  {
   "cell_type": "markdown",
   "id": "711a437d-eac6-4b42-b3e9-645931ab87d8",
   "metadata": {},
   "source": [
    "### Q5. Training a model\n",
    "Now let's use the feature matrix from the previous step to train a model.\n",
    "\n",
    "1. Train a plain linear regression model with default parameters\n",
    "2. Calculate the RMSE of the model on the training data\n",
    "\n",
    "What's the RMSE on train?"
   ]
  },
  {
   "cell_type": "code",
   "execution_count": 10,
   "id": "3d9cf8b3-9cf0-4413-a44a-41c201250217",
   "metadata": {},
   "outputs": [
    {
     "data": {
      "text/plain": [
       "7.649261812064437"
      ]
     },
     "execution_count": 10,
     "metadata": {},
     "output_type": "execute_result"
    }
   ],
   "source": [
    "target = 'duration'\n",
    "y_train = df[target].values\n",
    "lr = LinearRegression()\n",
    "lr.fit(X_train, y_train)\n",
    "y_pred = lr.predict(X_train)\n",
    "mean_squared_error(y_train, y_pred, squared=False)"
   ]
  },
  {
   "cell_type": "markdown",
   "id": "9e316159-14ee-4462-94fe-bcfde634af51",
   "metadata": {},
   "source": [
    "### Q6. Evaluating the model\r\n",
    "Now let's apply this model to the validation dataset (February 2023)\r\n",
    "\r\n",
    "What's the RMSE on validation?"
   ]
  },
  {
   "cell_type": "code",
   "execution_count": 11,
   "id": "ab78bd01-8ca4-4c75-bf2e-81d6c6316b3f",
   "metadata": {},
   "outputs": [],
   "source": [
    "test_df = pd.read_parquet('./data/yellow_tripdata_2023-02.parquet')"
   ]
  },
  {
   "cell_type": "code",
   "execution_count": 12,
   "id": "aefdcbef-2717-4486-b600-af22391cdea9",
   "metadata": {},
   "outputs": [],
   "source": [
    "test_df['duration'] = test_df.tpep_dropoff_datetime - test_df.tpep_pickup_datetime\n",
    "test_df.duration = test_df.duration.apply(lambda td: td.total_seconds() / 60)"
   ]
  },
  {
   "cell_type": "code",
   "execution_count": 13,
   "id": "8785923d-15db-4db6-a024-5648fdcddbf7",
   "metadata": {},
   "outputs": [],
   "source": [
    "test_df = test_df[(test_df.duration >= 1) & (test_df.duration <= 60)]"
   ]
  },
  {
   "cell_type": "code",
   "execution_count": 14,
   "id": "916c0f99-8e2d-4e60-a0f4-cd97b2853496",
   "metadata": {},
   "outputs": [
    {
     "data": {
      "text/plain": [
       "7.811822042099508"
      ]
     },
     "execution_count": 14,
     "metadata": {},
     "output_type": "execute_result"
    }
   ],
   "source": [
    "categorical = ['PULocationID', 'DOLocationID']\n",
    "test_df[categorical] = test_df[categorical].astype(str)\n",
    "val_dicts = test_df[categorical].to_dict(orient='records')\n",
    "X_val = dv.transform(val_dicts)\n",
    "target = 'duration'\n",
    "y_val = test_df[target].values\n",
    "y_pred = lr.predict(X_val)\n",
    "mean_squared_error(y_val, y_pred, squared=False)"
   ]
  },
  {
   "cell_type": "code",
   "execution_count": null,
   "id": "709176ca-b0d8-4291-8875-a6a7b8296a6d",
   "metadata": {},
   "outputs": [],
   "source": []
  }
 ],
 "metadata": {
  "kernelspec": {
   "display_name": "Python 3 (ipykernel)",
   "language": "python",
   "name": "python3"
  },
  "language_info": {
   "codemirror_mode": {
    "name": "ipython",
    "version": 3
   },
   "file_extension": ".py",
   "mimetype": "text/x-python",
   "name": "python",
   "nbconvert_exporter": "python",
   "pygments_lexer": "ipython3",
   "version": "3.10.9"
  }
 },
 "nbformat": 4,
 "nbformat_minor": 5
}
